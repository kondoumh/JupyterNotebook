{
  "nbformat": 4,
  "nbformat_minor": 0,
  "metadata": {
    "colab": {
      "name": "Sandbox.ipynb",
      "version": "0.3.2",
      "views": {},
      "default_view": {},
      "provenance": [],
      "collapsed_sections": []
    },
    "kernelspec": {
      "name": "python3",
      "display_name": "Python 3"
    }
  },
  "cells": [
    {
      "metadata": {
        "id": "WcMyoHd9o2xi",
        "colab_type": "text"
      },
      "cell_type": "markdown",
      "source": [
        "## Hello"
      ]
    },
    {
      "metadata": {
        "id": "c8J4i3inoXfH",
        "colab_type": "code",
        "colab": {
          "autoexec": {
            "startup": false,
            "wait_interval": 0
          },
          "base_uri": "https://localhost:8080/",
          "height": 34
        },
        "outputId": "a47001e4-766a-460c-8e53-52dccb332975",
        "executionInfo": {
          "status": "ok",
          "timestamp": 1527660096035,
          "user_tz": -540,
          "elapsed": 905,
          "user": {
            "displayName": "近藤正裕",
            "photoUrl": "//lh5.googleusercontent.com/-jOchdwYSxUU/AAAAAAAAAAI/AAAAAAAAAAA/01y44s5Okz4/s50-c-k-no/photo.jpg",
            "userId": "114856597498196384871"
          }
        }
      },
      "cell_type": "code",
      "source": [
        "import sys\n",
        "print('Hello, Colaboratory from Python {}!'.format(sys.version_info[0]))"
      ],
      "execution_count": 1,
      "outputs": [
        {
          "output_type": "stream",
          "text": [
            "Hello, Colaboratory from Python 3!\n"
          ],
          "name": "stdout"
        }
      ]
    },
    {
      "metadata": {
        "id": "7CesHSeZ0S8X",
        "colab_type": "text"
      },
      "cell_type": "markdown",
      "source": [
        ""
      ]
    },
    {
      "metadata": {
        "id": "qBJZpTUVqM6u",
        "colab_type": "text"
      },
      "cell_type": "markdown",
      "source": [
        "## Use TensorFlow & NumPy"
      ]
    },
    {
      "metadata": {
        "id": "E2RnHK-688jC",
        "colab_type": "text"
      },
      "cell_type": "markdown",
      "source": [
        ""
      ]
    },
    {
      "metadata": {
        "id": "C5wqJGnLqV5j",
        "colab_type": "code",
        "colab": {
          "autoexec": {
            "startup": false,
            "wait_interval": 0
          },
          "base_uri": "https://localhost:8080/",
          "height": 51
        },
        "outputId": "7ea01baa-fa81-48e2-ee6b-8b53b75e7f94",
        "executionInfo": {
          "status": "ok",
          "timestamp": 1527660712709,
          "user_tz": -540,
          "elapsed": 1014,
          "user": {
            "displayName": "近藤正裕",
            "photoUrl": "//lh5.googleusercontent.com/-jOchdwYSxUU/AAAAAAAAAAI/AAAAAAAAAAA/01y44s5Okz4/s50-c-k-no/photo.jpg",
            "userId": "114856597498196384871"
          }
        }
      },
      "cell_type": "code",
      "source": [
        "import tensorflow as tf\n",
        "import numpy as np\n",
        "\n",
        "with tf.Session():\n",
        "  input1 = tf.constant(1.0, shape=[2, 3])\n",
        "  input2 = tf.constant(np.reshape(np.arange(1.0, 7.0, dtype=np.float32), (2, 3)))\n",
        "  output = tf.add(input1, input2)\n",
        "  result = output.eval()\n",
        "result"
      ],
      "execution_count": 5,
      "outputs": [
        {
          "output_type": "execute_result",
          "data": {
            "text/plain": [
              "array([[2., 3., 4.],\n",
              "       [5., 6., 7.]], dtype=float32)"
            ]
          },
          "metadata": {
            "tags": []
          },
          "execution_count": 5
        }
      ]
    },
    {
      "metadata": {
        "id": "slZYwaPprvTG",
        "colab_type": "text"
      },
      "cell_type": "markdown",
      "source": [
        "## Visualization with matplotlib"
      ]
    },
    {
      "metadata": {
        "id": "Z1jfplhKr1aS",
        "colab_type": "code",
        "colab": {
          "autoexec": {
            "startup": false,
            "wait_interval": 0
          },
          "base_uri": "https://localhost:8080/",
          "height": 347
        },
        "outputId": "02204b27-2f90-4568-aa00-73282053b482",
        "executionInfo": {
          "status": "ok",
          "timestamp": 1527661201510,
          "user_tz": -540,
          "elapsed": 932,
          "user": {
            "displayName": "近藤正裕",
            "photoUrl": "//lh5.googleusercontent.com/-jOchdwYSxUU/AAAAAAAAAAI/AAAAAAAAAAA/01y44s5Okz4/s50-c-k-no/photo.jpg",
            "userId": "114856597498196384871"
          }
        }
      },
      "cell_type": "code",
      "source": [
        "import matplotlib.pyplot as plt\n",
        "import numpy as np\n",
        "\n",
        "x = np.arange(20)\n",
        "y = [x_i + np.random.randn(1) for x_i in x]\n",
        "a, b = np.polyfit(x, y, 1)\n",
        "_ = plt.plot(x, y, 'o', np.arange(20), a*np.arange(20)+b, '-')"
      ],
      "execution_count": 8,
      "outputs": [
        {
          "output_type": "display_data",
          "data": {
            "image/png": "[encoded data removed]",
            "text/plain": [
              "<matplotlib.figure.Figure at 0x7f803a258c18>"
            ]
          },
          "metadata": {
            "tags": []
          }
        }
      ]
    },
    {
      "metadata": {
        "id": "lWK15WGZu_Go",
        "colab_type": "code",
        "colab": {
          "autoexec": {
            "startup": false,
            "wait_interval": 0
          },
          "base_uri": "https://localhost:8080/",
          "height": 330
        },
        "outputId": "f617190f-4173-4a40-bf74-c08f6364ec16",
        "executionInfo": {
          "status": "ok",
          "timestamp": 1527661781902,
          "user_tz": -540,
          "elapsed": 4067,
          "user": {
            "displayName": "近藤正裕",
            "photoUrl": "//lh5.googleusercontent.com/-jOchdwYSxUU/AAAAAAAAAAI/AAAAAAAAAAA/01y44s5Okz4/s50-c-k-no/photo.jpg",
            "userId": "114856597498196384871"
          }
        }
      },
      "cell_type": "code",
      "source": [
        "!pip install -q matplotlib-venn\n",
        "\n",
        "from matplotlib_venn import venn2\n",
        "_ = venn2(subsets = (3, 2, 1))"
      ],
      "execution_count": 9,
      "outputs": [
        {
          "output_type": "display_data",
          "data": {
            "image/png": "[encoded data removed]",
            "text/plain": [
              "<matplotlib.figure.Figure at 0x7f8032f23278>"
            ]
          },
          "metadata": {
            "tags": []
          }
        }
      ]
    },
    {
      "metadata": {
        "id": "8993pPrrydgz",
        "colab_type": "text"
      },
      "cell_type": "markdown",
      "source": [
        "## Forms"
      ]
    },
    {
      "metadata": {
        "id": "xzug79eXyfVR",
        "colab_type": "code",
        "colab": {
          "autoexec": {
            "startup": false,
            "wait_interval": 0
          }
        }
      },
      "cell_type": "code",
      "source": [
        "#@title Examples\n",
        "\n",
        "text = 'input' #@param\n",
        "date_input = \"2018-05-30\" #@param {type:\"date\"}\n",
        "number_slider = 1 #@param {type:\"slider\", min:-1, max:1}\n",
        "dropdown = '1st option' #@param [\"1st option\", \"2nd option\", \"3rd option\"]"
      ],
      "execution_count": 0,
      "outputs": []
    }
  ]
}